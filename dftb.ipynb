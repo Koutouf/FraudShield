{
  "nbformat": 4,
  "nbformat_minor": 0,
  "metadata": {
    "colab": {
      "provenance": [],
      "authorship_tag": "ABX9TyMxZPcRkWxK/kyErN1IDPm0",
      "include_colab_link": true
    },
    "kernelspec": {
      "name": "python3",
      "display_name": "Python 3"
    },
    "language_info": {
      "name": "python"
    }
  },
  "cells": [
    {
      "cell_type": "markdown",
      "metadata": {
        "id": "view-in-github",
        "colab_type": "text"
      },
      "source": [
        "<a href=\"https://colab.research.google.com/github/Koutouf/FraudShield/blob/main/dftb.ipynb\" target=\"_parent\"><img src=\"https://colab.research.google.com/assets/colab-badge.svg\" alt=\"Open In Colab\"/></a>"
      ]
    },
    {
      "cell_type": "code",
      "source": [
        "from google.colab import drive\n",
        "drive.mount(\"/content/mydrive\")\n",
        "import warnings\n",
        "\n",
        "# Suppression de tous les avertissements pour un affichage plus clair des sorties\n",
        "warnings.filterwarnings(\"ignore\")"
      ],
      "metadata": {
        "colab": {
          "base_uri": "https://localhost:8080/"
        },
        "id": "YFHB4WuDV9Nc",
        "outputId": "eebc1c15-9f2a-492d-a80c-6248d6226993"
      },
      "execution_count": 11,
      "outputs": [
        {
          "output_type": "stream",
          "name": "stdout",
          "text": [
            "Mounted at /content/mydrive\n"
          ]
        }
      ]
    },
    {
      "cell_type": "code",
      "source": [
        "import pandas as pd\n",
        "import zipfile\n",
        "# Chemin du fichier zip\n",
        "data_path = \"/content/mydrive/MyDrive/D_F_T_B/PS_20174392719_1491204439457_log.csv.zip\"\n",
        "# Extract the CSV file\n",
        "with zipfile.ZipFile(data_path, 'r') as zip_ref:\n",
        "    zip_ref.extractall('/content')\n",
        "    csv_newdata = zip_ref.namelist()[0]"
      ],
      "metadata": {
        "id": "TmwT3enCVH1h"
      },
      "execution_count": 12,
      "outputs": []
    },
    {
      "cell_type": "code",
      "execution_count": 18,
      "metadata": {
        "colab": {
          "base_uri": "https://localhost:8080/"
        },
        "id": "E2BobT4tR3Vm",
        "outputId": "ecb6827b-6024-4edc-c86c-acdaabde85f9"
      },
      "outputs": [
        {
          "output_type": "stream",
          "name": "stdout",
          "text": [
            "+----+--------+--------+-----------+-------------+--------------+-----------+--------------+--------------+-------+--------------+\n",
            "|step|type    |amount  |nameOrig   |oldbalanceOrg|newbalanceOrig|nameDest   |oldbalanceDest|newbalanceDest|isFraud|isFlaggedFraud|\n",
            "+----+--------+--------+-----------+-------------+--------------+-----------+--------------+--------------+-------+--------------+\n",
            "|1   |PAYMENT |9839.64 |C1231006815|170136.0     |160296.36     |M1979787155|0.0           |0.0           |0      |0             |\n",
            "|1   |PAYMENT |1864.28 |C1666544295|21249.0      |19384.72      |M2044282225|0.0           |0.0           |0      |0             |\n",
            "|1   |TRANSFER|181.0   |C1305486145|181.0        |0.0           |C553264065 |0.0           |0.0           |1      |0             |\n",
            "|1   |CASH_OUT|181.0   |C840083671 |181.0        |0.0           |C38997010  |21182.0       |0.0           |1      |0             |\n",
            "|1   |PAYMENT |11668.14|C2048537720|41554.0      |29885.86      |M1230701703|0.0           |0.0           |0      |0             |\n",
            "|1   |PAYMENT |7817.71 |C90045638  |53860.0      |46042.29      |M573487274 |0.0           |0.0           |0      |0             |\n",
            "|1   |PAYMENT |7107.77 |C154988899 |183195.0     |176087.23     |M408069119 |0.0           |0.0           |0      |0             |\n",
            "|1   |PAYMENT |7861.64 |C1912850431|176087.23    |168225.59     |M633326333 |0.0           |0.0           |0      |0             |\n",
            "|1   |PAYMENT |4024.36 |C1265012928|2671.0       |0.0           |M1176932104|0.0           |0.0           |0      |0             |\n",
            "|1   |DEBIT   |5337.77 |C712410124 |41720.0      |36382.23      |C195600860 |41898.0       |40348.79      |0      |0             |\n",
            "+----+--------+--------+-----------+-------------+--------------+-----------+--------------+--------------+-------+--------------+\n",
            "only showing top 10 rows\n",
            "\n",
            "root\n",
            " |-- step: integer (nullable = true)\n",
            " |-- type: string (nullable = true)\n",
            " |-- amount: double (nullable = true)\n",
            " |-- nameOrig: string (nullable = true)\n",
            " |-- oldbalanceOrg: double (nullable = true)\n",
            " |-- newbalanceOrig: double (nullable = true)\n",
            " |-- nameDest: string (nullable = true)\n",
            " |-- oldbalanceDest: double (nullable = true)\n",
            " |-- newbalanceDest: double (nullable = true)\n",
            " |-- isFraud: integer (nullable = true)\n",
            " |-- isFlaggedFraud: integer (nullable = true)\n",
            "\n"
          ]
        }
      ],
      "source": [
        "from pyspark.sql import SparkSession\n",
        "\n",
        "# Initialiser une session Spark\n",
        "spark = SparkSession.builder \\\n",
        "    .appName(\"FraudDetection\") \\\n",
        "    .getOrCreate()\n",
        "data = spark.read.csv(f\"/content/{csv_newdata}\", header=True, inferSchema=True)\n",
        "data.show(10, truncate=False)\n",
        "data.printSchema()"
      ]
    },
    {
      "cell_type": "code",
      "source": [
        "# Schéma du dataset\n",
        "data.printSchema()\n",
        "\n",
        "# Statistiques descriptives\n",
        "data.describe().show()\n",
        "\n",
        "# Vérifier les valeurs manquantes\n",
        "from pyspark.sql.functions import col, isnan, when, count\n",
        "\n",
        "data.select([count(when(col(c).isNull(), c)).alias(c) for c in data.columns]).show()\n"
      ],
      "metadata": {
        "colab": {
          "base_uri": "https://localhost:8080/"
        },
        "id": "7r2zfKXASHS6",
        "outputId": "477ceb05-8f54-42e5-f23d-d3c314a534c8"
      },
      "execution_count": 19,
      "outputs": [
        {
          "output_type": "stream",
          "name": "stdout",
          "text": [
            "root\n",
            " |-- step: integer (nullable = true)\n",
            " |-- type: string (nullable = true)\n",
            " |-- amount: double (nullable = true)\n",
            " |-- nameOrig: string (nullable = true)\n",
            " |-- oldbalanceOrg: double (nullable = true)\n",
            " |-- newbalanceOrig: double (nullable = true)\n",
            " |-- nameDest: string (nullable = true)\n",
            " |-- oldbalanceDest: double (nullable = true)\n",
            " |-- newbalanceDest: double (nullable = true)\n",
            " |-- isFraud: integer (nullable = true)\n",
            " |-- isFlaggedFraud: integer (nullable = true)\n",
            "\n",
            "+-------+------------------+--------+-----------------+-----------+-----------------+------------------+-----------+------------------+------------------+--------------------+--------------------+\n",
            "|summary|              step|    type|           amount|   nameOrig|    oldbalanceOrg|    newbalanceOrig|   nameDest|    oldbalanceDest|    newbalanceDest|             isFraud|      isFlaggedFraud|\n",
            "+-------+------------------+--------+-----------------+-----------+-----------------+------------------+-----------+------------------+------------------+--------------------+--------------------+\n",
            "|  count|           6362620| 6362620|          6362620|    6362620|          6362620|           6362620|    6362620|           6362620|           6362620|             6362620|             6362620|\n",
            "|   mean|243.39724563151657|    NULL|179861.9035491287|       NULL|833883.1040744764| 855113.6685785812|       NULL|1100701.6665196533|1224996.3982019224|0.001290820448180152| 2.51468734577894E-6|\n",
            "| stddev|142.33197104913066|    NULL|603858.2314629209|       NULL|2888242.673037527|2924048.5029542595|       NULL|3399180.1129944525|3674128.9421196915|0.035904796801604424|0.001585774705736...|\n",
            "|    min|                 1| CASH_IN|              0.0|C1000000639|              0.0|               0.0|C1000004082|               0.0|               0.0|                   0|                   0|\n",
            "|    max|               743|TRANSFER|    9.244551664E7| C999999784|    5.958504037E7|     4.958504037E7| M999999784|    3.5601588935E8|    3.5617927892E8|                   1|                   1|\n",
            "+-------+------------------+--------+-----------------+-----------+-----------------+------------------+-----------+------------------+------------------+--------------------+--------------------+\n",
            "\n",
            "+----+----+------+--------+-------------+--------------+--------+--------------+--------------+-------+--------------+\n",
            "|step|type|amount|nameOrig|oldbalanceOrg|newbalanceOrig|nameDest|oldbalanceDest|newbalanceDest|isFraud|isFlaggedFraud|\n",
            "+----+----+------+--------+-------------+--------------+--------+--------------+--------------+-------+--------------+\n",
            "|   0|   0|     0|       0|            0|             0|       0|             0|             0|      0|             0|\n",
            "+----+----+------+--------+-------------+--------------+--------+--------------+--------------+-------+--------------+\n",
            "\n"
          ]
        }
      ]
    },
    {
      "cell_type": "code",
      "source": [
        "from pyspark.sql.functions import when\n",
        "data = data.withColumn(\"label\", when(data[\"isFraud\"] == 1, 1).otherwise(0))\n",
        "columns_to_drop = [\"nameOrig\", \"nameDest\"]\n",
        "data = data.drop(*columns_to_drop)\n",
        "data.show(5)\n"
      ],
      "metadata": {
        "id": "km2iG6UYSHas",
        "colab": {
          "base_uri": "https://localhost:8080/"
        },
        "outputId": "254b0a37-64cd-4b0e-f729-8a0aacf9ed02"
      },
      "execution_count": 20,
      "outputs": [
        {
          "output_type": "stream",
          "name": "stdout",
          "text": [
            "+----+--------+--------+-------------+--------------+--------------+--------------+-------+--------------+-----+\n",
            "|step|    type|  amount|oldbalanceOrg|newbalanceOrig|oldbalanceDest|newbalanceDest|isFraud|isFlaggedFraud|label|\n",
            "+----+--------+--------+-------------+--------------+--------------+--------------+-------+--------------+-----+\n",
            "|   1| PAYMENT| 9839.64|     170136.0|     160296.36|           0.0|           0.0|      0|             0|    0|\n",
            "|   1| PAYMENT| 1864.28|      21249.0|      19384.72|           0.0|           0.0|      0|             0|    0|\n",
            "|   1|TRANSFER|   181.0|        181.0|           0.0|           0.0|           0.0|      1|             0|    1|\n",
            "|   1|CASH_OUT|   181.0|        181.0|           0.0|       21182.0|           0.0|      1|             0|    1|\n",
            "|   1| PAYMENT|11668.14|      41554.0|      29885.86|           0.0|           0.0|      0|             0|    0|\n",
            "+----+--------+--------+-------------+--------------+--------------+--------------+-------+--------------+-----+\n",
            "only showing top 5 rows\n",
            "\n"
          ]
        }
      ]
    },
    {
      "cell_type": "code",
      "source": [
        "from pyspark.ml.feature import StringIndexer, VectorAssembler\n",
        "from pyspark.sql.functions import col\n",
        "if \"type_indexed\" not in data.columns:\n",
        "  indexer = StringIndexer(inputCol=\"type\", outputCol=\"type_indexed\")\n",
        "  data = indexer.fit(data).transform(data)\n",
        "data = data.withColumn(\"label\", col(\"isFraud\").cast(\"double\"))\n",
        "print(data.head())\n",
        "data.show(5)\n",
        "data.printSchema()\n",
        "feature_columns = [\"type_indexed\", \"amount\", \"oldbalanceOrg\", \"newbalanceOrig\",\n",
        "                   \"oldbalanceDest\", \"newbalanceDest\", \"isFlaggedFraud\"]\n",
        "assembler = VectorAssembler(inputCols=feature_columns, outputCol=\"features\")\n",
        "data = assembler.transform(data).select(\"features\", \"label\")\n",
        "print(assembler)\n",
        "data.show(5)\n"
      ],
      "metadata": {
        "id": "p21Mxjh9SSt1",
        "colab": {
          "base_uri": "https://localhost:8080/"
        },
        "outputId": "f02007f9-e840-4b64-c5cf-3f51b2d0547f"
      },
      "execution_count": 22,
      "outputs": [
        {
          "output_type": "stream",
          "name": "stdout",
          "text": [
            "Row(step=1, type='PAYMENT', amount=9839.64, oldbalanceOrg=170136.0, newbalanceOrig=160296.36, oldbalanceDest=0.0, newbalanceDest=0.0, isFraud=0, isFlaggedFraud=0, label=0.0, type_indexed=1.0)\n",
            "+----+--------+--------+-------------+--------------+--------------+--------------+-------+--------------+-----+------------+\n",
            "|step|    type|  amount|oldbalanceOrg|newbalanceOrig|oldbalanceDest|newbalanceDest|isFraud|isFlaggedFraud|label|type_indexed|\n",
            "+----+--------+--------+-------------+--------------+--------------+--------------+-------+--------------+-----+------------+\n",
            "|   1| PAYMENT| 9839.64|     170136.0|     160296.36|           0.0|           0.0|      0|             0|  0.0|         1.0|\n",
            "|   1| PAYMENT| 1864.28|      21249.0|      19384.72|           0.0|           0.0|      0|             0|  0.0|         1.0|\n",
            "|   1|TRANSFER|   181.0|        181.0|           0.0|           0.0|           0.0|      1|             0|  1.0|         3.0|\n",
            "|   1|CASH_OUT|   181.0|        181.0|           0.0|       21182.0|           0.0|      1|             0|  1.0|         0.0|\n",
            "|   1| PAYMENT|11668.14|      41554.0|      29885.86|           0.0|           0.0|      0|             0|  0.0|         1.0|\n",
            "+----+--------+--------+-------------+--------------+--------------+--------------+-------+--------------+-----+------------+\n",
            "only showing top 5 rows\n",
            "\n",
            "root\n",
            " |-- step: integer (nullable = true)\n",
            " |-- type: string (nullable = true)\n",
            " |-- amount: double (nullable = true)\n",
            " |-- oldbalanceOrg: double (nullable = true)\n",
            " |-- newbalanceOrig: double (nullable = true)\n",
            " |-- oldbalanceDest: double (nullable = true)\n",
            " |-- newbalanceDest: double (nullable = true)\n",
            " |-- isFraud: integer (nullable = true)\n",
            " |-- isFlaggedFraud: integer (nullable = true)\n",
            " |-- label: double (nullable = true)\n",
            " |-- type_indexed: double (nullable = false)\n",
            "\n",
            "VectorAssembler_317a21116763\n",
            "+--------------------+-----+\n",
            "|            features|label|\n",
            "+--------------------+-----+\n",
            "|[1.0,9839.64,1701...|  0.0|\n",
            "|[1.0,1864.28,2124...|  0.0|\n",
            "|(7,[0,1,2],[3.0,1...|  1.0|\n",
            "|(7,[1,2,4],[181.0...|  1.0|\n",
            "|[1.0,11668.14,415...|  0.0|\n",
            "+--------------------+-----+\n",
            "only showing top 5 rows\n",
            "\n"
          ]
        }
      ]
    },
    {
      "cell_type": "code",
      "source": [
        "train_data, test_data = data.randomSplit([0.8, 0.2], seed=42)"
      ],
      "metadata": {
        "id": "4jku7SeUSX7T"
      },
      "execution_count": 23,
      "outputs": []
    },
    {
      "cell_type": "code",
      "source": [
        "train_size = train_data.count()\n",
        "test_size = test_data.count()\n",
        "plt.figure(figsize=(8, 6))\n",
        "plt.bar([\"Entraînement\", \"Test\"], [train_size, test_size], color=[\"skyblue\", \"pink\"])\n",
        "plt.title(\"Répartition des Données Après le Split\")\n",
        "plt.ylabel(\"Nombre de Transactions\")\n",
        "plt.xlabel(\"Type de Données\")\n",
        "plt.show()"
      ],
      "metadata": {
        "colab": {
          "base_uri": "https://localhost:8080/",
          "height": 565
        },
        "id": "B0s59HJoaqnr",
        "outputId": "a06adc10-5418-420b-845f-a803b962f564"
      },
      "execution_count": 30,
      "outputs": [
        {
          "output_type": "display_data",
          "data": {
            "text/plain": [
              "<Figure size 800x600 with 1 Axes>"
            ],
            "image/png": "[encoded data removed]"
          },
          "metadata": {}
        }
      ]
    },
    {
      "cell_type": "code",
      "source": [
        "from pyspark.ml.feature import VectorAssembler\n",
        "from pyspark.ml.classification import LogisticRegression\n",
        "# Créer le modèle\n",
        "lr = LogisticRegression(featuresCol=\"features\", labelCol=\"label\")\n",
        "model = lr.fit(data)\n",
        "\n",
        "# Évaluer le modèle\n",
        "predictions = model.transform(test_data)\n",
        "predictions.select(\"label\", \"prediction\", \"probability\").show(5)"
      ],
      "metadata": {
        "id": "fID4-4IOSaUK",
        "colab": {
          "base_uri": "https://localhost:8080/"
        },
        "outputId": "5f7a6880-4bc3-4b5b-ce0e-169050f6f47c"
      },
      "execution_count": 24,
      "outputs": [
        {
          "output_type": "stream",
          "name": "stdout",
          "text": [
            "+-----+----------+--------------------+\n",
            "|label|prediction|         probability|\n",
            "+-----+----------+--------------------+\n",
            "|  0.0|       0.0|[0.99845243680165...|\n",
            "|  0.0|       0.0|[0.99845251499591...|\n",
            "|  0.0|       0.0|[0.99845252726132...|\n",
            "|  0.0|       0.0|[0.99845258552068...|\n",
            "|  0.0|       0.0|[0.99845265910832...|\n",
            "+-----+----------+--------------------+\n",
            "only showing top 5 rows\n",
            "\n"
          ]
        }
      ]
    },
    {
      "cell_type": "code",
      "source": [
        "from pyspark.ml.evaluation import MulticlassClassificationEvaluator\n",
        "\n",
        "evaluator = MulticlassClassificationEvaluator(labelCol=\"label\", predictionCol=\"prediction\", metricName=\"f1\")\n",
        "f1_score = evaluator.evaluate(predictions)\n",
        "print(f\"F1-Score : {f1_score}\")\n"
      ],
      "metadata": {
        "id": "9JiGGBDuSaMW",
        "colab": {
          "base_uri": "https://localhost:8080/"
        },
        "outputId": "57a02601-2dbb-444d-9de0-17edadf41f65"
      },
      "execution_count": 25,
      "outputs": [
        {
          "output_type": "stream",
          "name": "stdout",
          "text": [
            "F1-Score : 0.9991664056206274\n"
          ]
        }
      ]
    },
    {
      "cell_type": "code",
      "source": [
        "import pandas as pd\n",
        "import matplotlib.pyplot as plt\n",
        "\n",
        "# Convertir les données Spark en Pandas pour la visualisation\n",
        "predictions_pd = predictions.select(\"label\", \"prediction\").toPandas()\n",
        "\n",
        "# Répartition des prédictions (fraude vs non-fraude)\n",
        "plt.figure(figsize=(8, 6))\n",
        "predictions_pd[\"prediction\"].value_counts().plot.pie(\n",
        "    autopct='%1.1f%%',\n",
        "    labels=[\"Non-Fraud\", \"Fraud\"],\n",
        "    colors=[\"lightgreen\", \"red\"],\n",
        "    startangle=140\n",
        ")\n",
        "plt.title(\"Répartition des Prédictions (Fraude vs Non-Fraude)\")\n",
        "plt.ylabel(\"\")  # Supprime l'étiquette par défaut\n",
        "plt.show()\n"
      ],
      "metadata": {
        "id": "ZW16kpHpSeQf",
        "colab": {
          "base_uri": "https://localhost:8080/",
          "height": 521
        },
        "outputId": "3b0b350c-50ea-4acb-a8bb-36658213926c"
      },
      "execution_count": 28,
      "outputs": [
        {
          "output_type": "display_data",
          "data": {
            "text/plain": [
              "<Figure size 800x600 with 1 Axes>"
            ],
            "image/png": "[encoded data removed]"
          },
          "metadata": {}
        }
      ]
    }
  ]
}